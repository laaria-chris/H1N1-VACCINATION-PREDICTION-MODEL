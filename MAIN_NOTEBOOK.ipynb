{
 "cells": [
  {
   "cell_type": "markdown",
   "metadata": {},
   "source": [
    "### PREDICTING H1N1 FLU VACCINATION STATUS USING MACHINE LEARNING\n"
   ]
  },
  {
   "cell_type": "markdown",
   "metadata": {},
   "source": [
    "## 1. Business Understanding\n",
    "\n",
    "### 1.1 Overview\n",
    "\n",
    "In this project, the aim was to use data from the National Flu Survey (NHFS 2009) to predict whether respondents received the H1N1 vaccine. Understanding past vaccination trends is crucial for interpreting patterns in more recent pandemics, such as COVID-19. Key factors influencing vaccination status include Doctor recommendations for the H1N1 vaccine,health insurance, opinions on the vaccine's effectiveness perceptions of the risk posed by H1N1.\n",
    "I employed six machine learning models for prediction: \n",
    "\n",
    "1.Decision Tree Classifier\n",
    "\n",
    "2.Logistic Regression\n",
    "\n",
    "3.Random Forest\n",
    "\n",
    "4.K-Nearest Neighbors Classifier\n",
    "\n",
    "5.Gradient Boosting Classifier\n",
    "\n",
    "6.XGBoost Classifier\n",
    "\n",
    "Among these, the Gradient Boosting Classifier achieved the highest accuracy and precision.\n",
    "\n",
    "## 1.2 Business Problem.\n",
    "\n",
    "Vaccination stands as one of the most effective public health interventions ever implemented, leading to the elimination and control of diseases that were once widespread globally. Despite substantial medical evidence and the strong consensus among healthcare professionals supporting vaccination, skepticism has increased in many countries in recent years. This troubling trend has resulted in decreased immunization coverage, with several outbreaks of infectious diseases linked to undervaccinated communities. The growing issue of vaccine hesitancy has become so pervasive that it is now the subject of numerous studies aiming to understand the sources and correlations of attitudes toward vaccination.\n",
    "\n",
    "This study aims to predict the likelihood of individuals receiving the H1N1 flu vaccine. We believe the predictive models and analyses from this study will provide public health professionals and policymakers with a clear understanding of the factors associated with low vaccination rates. This, in turn, will enable them to systematically address the barriers preventing people from getting vaccinated.\n",
    "\n",
    "The methodologies employed in these models can serve as a reference for future work and can be compared with other models for performance evaluation. Given the nature of our data and our objectives, we implemented multiple machine learning classification models, including Logistic Regression, Decision Tree, Random Forest, k-Nearest Neighbors (kNN), Gradient Boosting, and XGBoost.\n",
    "\n",
    "To accurately classify those who received the H1N1 flu shot from those who did not, we require models with high accuracy and high precision, which corresponds to a low false positive rate (those mistakenly identified as vaccinated when they were not). This will be further evaluated using the ROC curve, accuracy score, precision score, and confusion matrix.\n",
    "\n",
    "**Target Audience**: Public health officials of the American Public Health Association (APHA)\n",
    "\n",
    "**OBJECTIVES**:\n",
    "1. Predicting who is vaccinated or not accurately.(Deliverable: Model)\n",
    "2. Analyse the factors that influence people to get H1N1 vaccine or not?  (Deliverable: Analysis\n",
    "\n",
    "**Context**:\n",
    "- False negative: Saying people did not get the vaccine when they actually did. \n",
    "- Outcome: Not a big problem\n",
    "\n",
    "- False positive: Saying people got the vaccine when they actually did not. \n",
    "- Outcome: Big problem\n",
    "\n",
    "\n",
    "**Evaluation**:\n",
    "We will focus on accuracy, f1, and precision scores for our model iterations in order to minimize False Positives, because in our business context false positives are a much more costly mistake than false negatives.\n",
    "\n",
    "- **Accuracy**\n",
    "- **Precision**\n",
    "- Recall\n",
    "- **F1-Score**\n"
   ]
  },
  {
   "cell_type": "markdown",
   "metadata": {},
   "source": [
    "## 2. Data Understanding"
   ]
  },
  {
   "cell_type": "code",
   "execution_count": null,
   "metadata": {},
   "outputs": [],
   "source": []
  }
 ],
 "metadata": {
  "language_info": {
   "name": "python"
  }
 },
 "nbformat": 4,
 "nbformat_minor": 2
}
